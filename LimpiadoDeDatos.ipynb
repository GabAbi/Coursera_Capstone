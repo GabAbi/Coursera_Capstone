{
 "cells": [
  {
   "cell_type": "code",
   "execution_count": 1,
   "id": "ccdce4e8-bef3-44bd-8a34-e5edbe68db01",
   "metadata": {},
   "outputs": [],
   "source": [
    "#Importamos los paquetes"
   ]
  },
  {
   "cell_type": "code",
   "execution_count": 2,
   "id": "b1ee0cf5-c0dc-4743-9aca-078804730474",
   "metadata": {},
   "outputs": [],
   "source": [
    "import pandas as pd\n",
    "import requests\n",
    "import json"
   ]
  },
  {
   "cell_type": "code",
   "execution_count": 3,
   "id": "ba4d73b9-b5cc-4e35-9cfa-e77459c29cce",
   "metadata": {},
   "outputs": [],
   "source": [
    "#Obtenemos la tabla de Wikipedia directamente a un DataFrame"
   ]
  },
  {
   "cell_type": "code",
   "execution_count": 4,
   "id": "7fade099-1e2d-421c-993f-0a2fc2dd242c",
   "metadata": {},
   "outputs": [],
   "source": [
    "data = pd.read_html(\"https://en.wikipedia.org/wiki/List_of_postal_codes_of_Canada:_M\")[0]"
   ]
  },
  {
   "cell_type": "code",
   "execution_count": 5,
   "id": "e8148561-c291-4cba-89e4-8633e0e1717e",
   "metadata": {},
   "outputs": [],
   "source": [
    "#Separamos los códigos de las direcciones y eliminamos los que no están asignados"
   ]
  },
  {
   "cell_type": "code",
   "execution_count": 6,
   "id": "77e5e38f-5b14-4f30-bb8d-790b58616e31",
   "metadata": {},
   "outputs": [],
   "source": [
    "postal_code = []\n",
    "status = []\n",
    "for row in data.iterrows():\n",
    "    for i in row[1]:\n",
    "        postal_code.append(i[:3])\n",
    "        status.append(i[3:])"
   ]
  },
  {
   "cell_type": "code",
   "execution_count": 7,
   "id": "f59f19cf-43ed-45a0-954c-7c6e5895d8f2",
   "metadata": {},
   "outputs": [],
   "source": [
    "inte = pd.DataFrame({\"Postal Code\":postal_code,\"Status\":status})\n",
    "inte = inte[inte.Status != \"Not assigned\"]"
   ]
  },
  {
   "cell_type": "code",
   "execution_count": 8,
   "id": "1a00eb34-c027-4f6d-88b6-b9dd63f89442",
   "metadata": {},
   "outputs": [],
   "source": [
    "#Separamos de las direcciones el Borough del Neighborhood. Luego limpiamos el DataFrame y corregimos algunos typos"
   ]
  },
  {
   "cell_type": "code",
   "execution_count": 9,
   "id": "ebae736d-b924-4fdf-917b-4cd9f3756f23",
   "metadata": {},
   "outputs": [],
   "source": [
    "inte[\"Borough\"] = [i[0] for i in inte.Status.str.split(\"(\")]\n",
    "inte[\"Neighborhood\"] = [\",\".join(i[1][:-1].split(\"/\")) for i in inte.Status.str.split(\"(\")]\n",
    "inte.reset_index(inplace = True)\n",
    "inte.drop([\"index\",\"Status\"],axis = 1, inplace = True)"
   ]
  },
  {
   "cell_type": "code",
   "execution_count": 10,
   "id": "fdb8283d-5631-4a7a-a56a-fa431e55994f",
   "metadata": {},
   "outputs": [],
   "source": [
    "inte[\"Neighborhood\"].replace([\"Don Mills)Nort\",\"Don Mills)Sout\",\"Downsview)East\",\"Downsview)Wes\",\"Downsview)Centra\",\"Willowdale)Sout\",\"Downsview)Northwes\",\"Willowdale)Wes\"],\n",
    "                             [\"Don Mills North\",\"Don Mills South\",\"Downsview East\",\"Downsview West\",\"Downsview Central\",\"Willowdale South\",\"Downsview Northwest\",\"Willowdale West\"],\n",
    "                             inplace = True)"
   ]
  },
  {
   "cell_type": "code",
   "execution_count": 23,
   "id": "6de10b4c-1b26-43df-9923-23046aff8a1a",
   "metadata": {},
   "outputs": [],
   "source": [
    "inte[\"Borough\"].replace([\"East YorkEast Toronto\",\"Mississauga, Canada Post Gateway Processing Centre\",\"Downtown TorontoStn A PO Boxes25 The Esplanade\",\"EtobicokeNorthwest\",\"East TorontoBusiness reply mail Processing Centre969 Eastern\"],\n",
    "                        [\"East York, East Toronto\",\"Mississauga, Canada Post Gateway Processing Centre\",\"Downtown Toronto, Stn A PO Boxes, 25 The Esplanade\",\"Etobicoke Northwest\",\"East Toronto, Business reply mail Processing Centre, 969 Eastern\"],\n",
    "                        inplace = True)"
   ]
  },
  {
   "cell_type": "code",
   "execution_count": 11,
   "id": "9bdafe3b-2a79-476e-b79a-d1582502fbaf",
   "metadata": {},
   "outputs": [],
   "source": [
    "#RESULTADO"
   ]
  },
  {
   "cell_type": "code",
   "execution_count": 12,
   "id": "5ac2dea3-392a-4db0-a831-49d0d5b785e3",
   "metadata": {},
   "outputs": [
    {
     "data": {
      "text/html": [
       "<div>\n",
       "<style scoped>\n",
       "    .dataframe tbody tr th:only-of-type {\n",
       "        vertical-align: middle;\n",
       "    }\n",
       "\n",
       "    .dataframe tbody tr th {\n",
       "        vertical-align: top;\n",
       "    }\n",
       "\n",
       "    .dataframe thead th {\n",
       "        text-align: right;\n",
       "    }\n",
       "</style>\n",
       "<table border=\"1\" class=\"dataframe\">\n",
       "  <thead>\n",
       "    <tr style=\"text-align: right;\">\n",
       "      <th></th>\n",
       "      <th>Postal Code</th>\n",
       "      <th>Borough</th>\n",
       "      <th>Neighborhood</th>\n",
       "    </tr>\n",
       "  </thead>\n",
       "  <tbody>\n",
       "    <tr>\n",
       "      <th>0</th>\n",
       "      <td>M3A</td>\n",
       "      <td>North York</td>\n",
       "      <td>Parkwoods</td>\n",
       "    </tr>\n",
       "    <tr>\n",
       "      <th>1</th>\n",
       "      <td>M4A</td>\n",
       "      <td>North York</td>\n",
       "      <td>Victoria Village</td>\n",
       "    </tr>\n",
       "    <tr>\n",
       "      <th>2</th>\n",
       "      <td>M5A</td>\n",
       "      <td>Downtown Toronto</td>\n",
       "      <td>Regent Park , Harbourfront</td>\n",
       "    </tr>\n",
       "    <tr>\n",
       "      <th>3</th>\n",
       "      <td>M6A</td>\n",
       "      <td>North York</td>\n",
       "      <td>Lawrence Manor , Lawrence Heights</td>\n",
       "    </tr>\n",
       "    <tr>\n",
       "      <th>4</th>\n",
       "      <td>M7A</td>\n",
       "      <td>Queen's Park</td>\n",
       "      <td>Ontario Provincial Government</td>\n",
       "    </tr>\n",
       "  </tbody>\n",
       "</table>\n",
       "</div>"
      ],
      "text/plain": [
       "  Postal Code           Borough                       Neighborhood\n",
       "0         M3A        North York                          Parkwoods\n",
       "1         M4A        North York                   Victoria Village\n",
       "2         M5A  Downtown Toronto         Regent Park , Harbourfront\n",
       "3         M6A        North York  Lawrence Manor , Lawrence Heights\n",
       "4         M7A      Queen's Park      Ontario Provincial Government"
      ]
     },
     "execution_count": 12,
     "metadata": {},
     "output_type": "execute_result"
    }
   ],
   "source": [
    "inte.head()"
   ]
  },
  {
   "cell_type": "code",
   "execution_count": 13,
   "id": "c5aaae5c-55f0-4fff-b32b-96ec65fa5f34",
   "metadata": {},
   "outputs": [
    {
     "data": {
      "text/plain": [
       "(103, 3)"
      ]
     },
     "execution_count": 13,
     "metadata": {},
     "output_type": "execute_result"
    }
   ],
   "source": [
    "inte.shape"
   ]
  },
  {
   "cell_type": "code",
   "execution_count": 25,
   "id": "cf94fa8d-aafc-4818-a4b3-b32b150f0342",
   "metadata": {},
   "outputs": [
    {
     "data": {
      "text/plain": [
       "['Parkwoods',\n",
       " 'Victoria Village',\n",
       " 'Regent Park , Harbourfront',\n",
       " 'Lawrence Manor , Lawrence Heights',\n",
       " 'Ontario Provincial Government',\n",
       " 'Islington Avenue',\n",
       " 'Malvern , Rouge',\n",
       " 'Don Mills North',\n",
       " 'Parkview Hill , Woodbine Gardens',\n",
       " 'Garden District, Ryerson',\n",
       " 'Glencairn',\n",
       " 'West Deane Park , Princess Gardens , Martin Grove , Islington , Cloverdale',\n",
       " 'Rouge Hill , Port Union , Highland Creek',\n",
       " 'Don Mills South',\n",
       " 'Woodbine Heights',\n",
       " 'St. James Town',\n",
       " 'Humewood-Cedarvale',\n",
       " 'Eringate , Bloordale Gardens , Old Burnhamthorpe , Markland Wood',\n",
       " 'Guildwood , Morningside , West Hill',\n",
       " 'The Beaches',\n",
       " 'Berczy Park',\n",
       " 'Caledonia-Fairbanks',\n",
       " 'Woburn',\n",
       " 'Leaside',\n",
       " 'Central Bay Street',\n",
       " 'Christie',\n",
       " 'Cedarbrae',\n",
       " 'Hillcrest Village',\n",
       " 'Bathurst Manor , Wilson Heights , Downsview North',\n",
       " 'Thorncliffe Park',\n",
       " 'Richmond , Adelaide , King',\n",
       " 'Dufferin , Dovercourt Village',\n",
       " 'Scarborough Village',\n",
       " 'Fairview , Henry Farm , Oriole',\n",
       " 'Northwood Park , York University',\n",
       " 'The Danforth East',\n",
       " 'Harbourfront East , Union Station , Toronto Islands',\n",
       " 'Little Portugal , Trinity',\n",
       " 'Kennedy Park , Ionview , East Birchmount Park',\n",
       " 'Bayview Village',\n",
       " 'Downsview East',\n",
       " 'The Danforth West , Riverdale',\n",
       " 'Toronto Dominion Centre , Design Exchange',\n",
       " 'Brockton , Parkdale Village , Exhibition Place',\n",
       " 'Golden Mile , Clairlea , Oakridge',\n",
       " 'York Mills , Silver Hills',\n",
       " 'Downsview West',\n",
       " 'India Bazaar , The Beaches West',\n",
       " 'Commerce Court , Victoria Hotel',\n",
       " 'North Park , Maple Leaf Park , Upwood Park',\n",
       " 'Humber Summit',\n",
       " 'Cliffside , Cliffcrest , Scarborough Village West',\n",
       " 'Willowdale , Newtonbrook',\n",
       " 'Downsview Central',\n",
       " 'Studio District',\n",
       " 'Bedford Park , Lawrence Manor East',\n",
       " 'Del Ray , Mount Dennis , Keelsdale and Silverthorn',\n",
       " 'Humberlea , Emery',\n",
       " 'Birch Cliff , Cliffside West',\n",
       " 'Willowdale South',\n",
       " 'Downsview Northwest',\n",
       " 'Lawrence Park',\n",
       " 'Roselawn',\n",
       " 'Runnymede , The Junction North',\n",
       " 'Weston',\n",
       " 'Dorset Park , Wexford Heights , Scarborough Town Centre',\n",
       " 'York Mills West',\n",
       " 'Davisville North',\n",
       " 'Forest Hill North & West',\n",
       " 'High Park , The Junction South',\n",
       " 'Westmount',\n",
       " 'Wexford , Maryvale',\n",
       " 'Willowdale West',\n",
       " 'North Toronto West',\n",
       " 'The Annex , North Midtown , Yorkville',\n",
       " 'Parkdale , Roncesvalles',\n",
       " 'Enclave of L4W',\n",
       " 'Kingsview Village , St. Phillips , Martin Grove Gardens , Richview Gardens',\n",
       " 'Agincourt',\n",
       " 'Davisville',\n",
       " 'University of Toronto , Harbord',\n",
       " 'Runnymede , Swansea',\n",
       " \"Clarks Corners , Tam O'Shanter , Sullivan\",\n",
       " 'Moore Park , Summerhill East',\n",
       " 'Kensington Market , Chinatown , Grange Park',\n",
       " \"Milliken , Agincourt North , Steeles East , L'Amoreaux East\",\n",
       " 'Summerhill West , Rathnelly , South Hill , Forest Hill SE , Deer Park',\n",
       " 'CN Tower , King and Spadina , Railway Lands , Harbourfront West , Bathurst Quay , South Niagara , Island airport',\n",
       " 'New Toronto , Mimico South , Humber Bay Shores',\n",
       " 'South Steeles , Silverstone , Humbergate , Jamestown , Mount Olive , Beaumond Heights , Thistletown , Albion Gardens',\n",
       " \"Steeles West , L'Amoreaux West\",\n",
       " 'Rosedale',\n",
       " 'Enclave of M5E',\n",
       " 'Alderwood , Long Branch',\n",
       " 'Clairville , Humberwood , Woodbine Downs , West Humber , Kipling Heights , Rexdale , Elms , Tandridge , Old Rexdale',\n",
       " 'Upper Rouge',\n",
       " 'St. James Town , Cabbagetown',\n",
       " 'First Canadian Place , Underground city',\n",
       " 'The Kingsway , Montgomery Road , Old Mill North',\n",
       " 'Church and Wellesley',\n",
       " 'Enclave of M4L',\n",
       " \"Old Mill South , King's Mill Park , Sunnylea , Humber Bay , Mimico NE , The Queensway East , Royal York South East , Kingsway Park South East\",\n",
       " 'Mimico NW , The Queensway West , South of Bloor , Kingsway Park South West , Royal York South West']"
      ]
     },
     "execution_count": 25,
     "metadata": {},
     "output_type": "execute_result"
    }
   ],
   "source": [
    "list(inte.Neighborhood.unique())"
   ]
  }
 ],
 "metadata": {
  "kernelspec": {
   "display_name": "Python 3",
   "language": "python",
   "name": "python3"
  },
  "language_info": {
   "codemirror_mode": {
    "name": "ipython",
    "version": 3
   },
   "file_extension": ".py",
   "mimetype": "text/x-python",
   "name": "python",
   "nbconvert_exporter": "python",
   "pygments_lexer": "ipython3",
   "version": "3.8.8"
  }
 },
 "nbformat": 4,
 "nbformat_minor": 5
}
